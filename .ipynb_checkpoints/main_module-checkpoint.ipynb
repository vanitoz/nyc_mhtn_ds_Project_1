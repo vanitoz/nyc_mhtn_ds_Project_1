{
 "cells": [
  {
   "cell_type": "markdown",
   "metadata": {},
   "source": [
    "## Importing all Libraries"
   ]
  },
  {
   "cell_type": "code",
   "execution_count": 10,
   "metadata": {},
   "outputs": [],
   "source": [
    "import sqlite3\n",
    "import requests\n",
    "import json\n",
    "import pandas as pd\n",
    "import matplotlib.pyplot as plt\n",
    "from  keys  import  client_id, api_key\n",
    "import folium"
   ]
  },
  {
   "cell_type": "code",
   "execution_count": 11,
   "metadata": {},
   "outputs": [],
   "source": [
    " # Creating a new DB and setting up cursor to it\n",
    "conn = sqlite3.connect('coffee_places.db')\n",
    "cursor = conn.cursor()"
   ]
  },
  {
   "cell_type": "code",
   "execution_count": 31,
   "metadata": {},
   "outputs": [
    {
     "name": "stdout",
     "output_type": "stream",
     "text": [
      "[('business',), ('reviews',)]\n"
     ]
    }
   ],
   "source": [
    "cursor.execute(\"SELECT name FROM sqlite_master WHERE type='table';\")\n",
    "print(cursor.fetchall())"
   ]
  },
  {
   "cell_type": "code",
   "execution_count": 33,
   "metadata": {},
   "outputs": [],
   "source": [
    "sqlite3.Cursor.close(cursor)"
   ]
  },
  {
   "cell_type": "code",
   "execution_count": 14,
   "metadata": {},
   "outputs": [],
   "source": [
    "# Creating dictionary where each key represents table name in DB and value represents query with Create statement with columns\n",
    "TABLES = {}\n",
    "TABLES['business'] = (\n",
    "    \"\"\"CREATE TABLE business (\n",
    "        business_id VARCHAR(30) NOT NULL,\n",
    "        name TEXT,\n",
    "        review_count INTEGER,\n",
    "        rating DECIMAL,\n",
    "        address TEXT,\n",
    "        city TEXT,\n",
    "        zip_code INTEGER NOT NULL,\n",
    "        price TEXT,\n",
    "        coordinate_latitude DECIMAL,\n",
    "        coordinate_longtitude DECIMAL,\n",
    "        PRIMARY KEY (business_id)\n",
    "        );\n",
    "    \"\"\")\n",
    "\n",
    "TABLES['reviews'] = (\n",
    "    \"\"\"CREATE TABLE reviews (\n",
    "        review_id VARCHAR(30) PRIMARY KEY,\n",
    "        business_id VARCHAR(30) NOT NULL,\n",
    "        rating DECIMAL,\n",
    "        text TEXT,\n",
    "        date_created TEXT,\n",
    "        FOREIGN KEY (business_id)\n",
    "            REFERENCES business (business_id)\n",
    "        \n",
    "        );\n",
    "    \"\"\")"
   ]
  },
  {
   "cell_type": "code",
   "execution_count": 16,
   "metadata": {},
   "outputs": [],
   "source": [
    "run = False\n",
    "if run:\n",
    "    # Itareting trough dict TABLES and executing query encoded into value of the each dict.\n",
    "    for table_name in TABLES:\n",
    "        table_description = TABLES[table_name]\n",
    "        cursor.execute('DROP TABLE IF EXISTS {};'.format(table_name))\n",
    "        cursor.execute(table_description)"
   ]
  },
  {
   "cell_type": "code",
   "execution_count": 17,
   "metadata": {},
   "outputs": [],
   "source": [
    "# Setting UP variables which will be using for API request to yelp web \n",
    "url =  'https://api.yelp.com/v3/businesses/search'\n",
    "headers = {'Authorization': 'Bearer {}'.format(api_key)}\n",
    "term = 'Coffee Shop'\n",
    "locations = ['Brooklyn', 'Queens']\n",
    "categories = 'Coffee & tea'\n",
    "price = [1,2,3,4]\n",
    "limit = 50\n",
    "cur = 0"
   ]
  },
  {
   "cell_type": "code",
   "execution_count": 18,
   "metadata": {},
   "outputs": [],
   "source": [
    "# Setting Parameters for API cals \n",
    "url_params = {\n",
    "                \"term\": term.replace(' ', '+'),\n",
    "                \"location\": locations,\n",
    "                \"categories\" : categories,\n",
    "                \"price\" : price,\n",
    "                \"limit\" : limit,\n",
    "                \"offset\" : cur\n",
    "                \n",
    "            }"
   ]
  },
  {
   "cell_type": "code",
   "execution_count": 19,
   "metadata": {},
   "outputs": [],
   "source": [
    "# Considering only zips in Bklyn and Queens\n",
    "zip_queens = [11361, 11362, 11363, 11364, 11354, 11355, 11356, 11357, 11358,\n",
    "          11359, 11360, 11365, 11366, 11367, 11412, 11423, 11432, 11433,\n",
    "          11434, 11435, 11436, 11101, 11102, 11103, 11104, 11105, 11106,\n",
    "          11374, 11375, 11379, 11385, 11691, 11692, 11693, 11694, 11695,\n",
    "          11697, 11004, 11005, 11411, 11413, 11422, 11426, 11427, 11428,\n",
    "          11429, 11414, 11415, 11416, 11417, 11418, 11419, 11420, 11421,\n",
    "          11368, 11369, 11370, 11372, 11373, 11377, 11378]\n",
    "\n",
    "zip_bklyn = [11212, 11213, 11216, 11233, 11238, 11209, 11214, 11228, 11204, 11218,\n",
    "          11219, 11230, 11234, 11236, 11239, 11223, 11224, 11229, 11235, 11201,\n",
    "          11205, 11215, 11217, 11231, 11203, 11210, 11225, 11226, 11207, 11208,\n",
    "          11211, 11222, 11220, 11232, 11206, 11221, 11237]"
   ]
  },
  {
   "cell_type": "code",
   "execution_count": 20,
   "metadata": {},
   "outputs": [],
   "source": [
    "def yelp_call(url_params, api_key):\n",
    "    \"\"\"\n",
    "    Sending API request.\n",
    "    Returns data represented as list of dict.\n",
    "    Each dict contain information about 1 buisness\n",
    "    Params : url_params - dict\n",
    "             api_key - unique key access to web\n",
    "    \n",
    "    \"\"\"\n",
    "    response = requests.get(url=url, headers=headers, params=url_params)\n",
    "    data = json.loads(response.text)\n",
    "    try:\n",
    "        return data['businesses']\n",
    "    except:\n",
    "        print(data)\n",
    "        return data"
   ]
  },
  {
   "cell_type": "code",
   "execution_count": 21,
   "metadata": {},
   "outputs": [],
   "source": [
    "def parse_results(list_of_data):\n",
    "    \"\"\"\n",
    "    parsing data by the keys.\n",
    "    params : list_of_data - list of dict (each dict repr. 1 buisness)\n",
    "    return : list of tuples with 10 elements in each\n",
    "    \"\"\"\n",
    "    parsed_results = []\n",
    "    for business in list_of_data:\n",
    "        if int(business['location']['zip_code']) in zip_queens+zip_bklyn: # only takes bus located in Bklyn or Queens \n",
    "            bus_tup = (business['id'],\n",
    "               business['name'],\n",
    "               business['review_count'],\n",
    "               business['rating'],\n",
    "               ','.join(business['location']['display_address']),\n",
    "               business['location']['city'],\n",
    "               int(business['location']['zip_code']),\n",
    "               business['price'],\n",
    "               business['coordinates']['latitude'],\n",
    "               business['coordinates']['longitude']\n",
    "              )\n",
    "            parsed_results.append(bus_tup)\n",
    "\n",
    "    return parsed_results"
   ]
  },
  {
   "cell_type": "code",
   "execution_count": 22,
   "metadata": {},
   "outputs": [],
   "source": [
    "def db_insert(cursor, parsed_results):\n",
    "    \"\"\"\n",
    "    Inserting data into DB\n",
    "    Params : cursor\n",
    "             parsed_results - list of tuplease\n",
    "    \"\"\"\n",
    "    \n",
    "    insert_statement = '''INSERT INTO business (\n",
    "        business_id,\n",
    "        name,\n",
    "        review_count,\n",
    "        rating,\n",
    "        address,\n",
    "        city,\n",
    "        zip_code,\n",
    "        price,\n",
    "        coordinate_latitude,\n",
    "        coordinate_longtitude) VALUES ( ?, ?, ?, ?, ?, ?, ?, ?, ?, ? )'''\n",
    "\n",
    "    cursor.executemany(insert_statement, parsed_results)"
   ]
  },
  {
   "cell_type": "code",
   "execution_count": 23,
   "metadata": {},
   "outputs": [],
   "source": [
    "# Looping trough list of Location that we need to get data about\n",
    "# sending each location to yelp as API reques\n",
    "# getting back data then sending it to parce and collect it to all_results list\n",
    "# calling function db_insert to record parced data into table Buisness in DB\n",
    "\n",
    "all_results =[]\n",
    "for location in locations:\n",
    "    url_params['location'] = location\n",
    "    for cur in range(0,1000,50):\n",
    "        url_params['offset'] = cur\n",
    "        results = yelp_call(url_params, api_key)\n",
    "        parsed_results = parse_results(results)\n",
    "        all_results.extend(parsed_results)\n",
    "db_insert(cursor, list(set(all_results)))"
   ]
  },
  {
   "cell_type": "code",
   "execution_count": 24,
   "metadata": {},
   "outputs": [],
   "source": [
    "# Retriving business_id from DB Table business and collecting into list \n",
    "business_ids = [t[0] for t in cursor.execute(\"\"\"SELECT business_id FROM business;\"\"\").fetchall()]"
   ]
  },
  {
   "cell_type": "code",
   "execution_count": 25,
   "metadata": {},
   "outputs": [],
   "source": [
    "def yelp_review_call(url_params, api_key, business_id):\n",
    "    \"\"\"\n",
    "    Sending API request to yelp web.\n",
    "    Returns data represented as dict with 3 keys.\n",
    "    Each dict contain information about 3 buisness reviews\n",
    "    Params : url_params - dict\n",
    "             api_key - unique key access to web\n",
    "             business_id - string\n",
    "    \"\"\"\n",
    "    response = requests.get(url='https://api.yelp.com/v3/businesses/{}/reviews'.format(business_id), headers=headers)\n",
    "    data = json.loads(response.text)\n",
    "    return data"
   ]
  },
  {
   "cell_type": "code",
   "execution_count": 26,
   "metadata": {},
   "outputs": [],
   "source": [
    "def parse_review(review_respond, business_id):\n",
    "    \"\"\"\n",
    "    parsing data by the keys.\n",
    "    params : review_respond - dict\n",
    "             business_id - string\n",
    "    return : list of tuples with 6 elements in each\n",
    "    \"\"\"\n",
    "    parsed_results = []\n",
    "    \n",
    "    for review in review_respond.get('reviews',[]):\n",
    "        parsed_results.append((\n",
    "            review['id'],\n",
    "            business_id,\n",
    "            review['rating'],\n",
    "            review['text'],\n",
    "            review['time_created']\n",
    "        ))\n",
    "\n",
    "    return parsed_results"
   ]
  },
  {
   "cell_type": "code",
   "execution_count": 27,
   "metadata": {},
   "outputs": [],
   "source": [
    "def db_insert_reviews(cursor, reviews_list):\n",
    "    \"\"\"\n",
    "    Inserting data into DB\n",
    "    Params : cursor\n",
    "             reviews_list - list of tuples\n",
    "    \"\"\"\n",
    "    \n",
    "    insert_statement = '''INSERT INTO reviews (\n",
    "        review_id,\n",
    "        business_id,\n",
    "        rating,\n",
    "        text,\n",
    "        date_created) VALUES ( ?, ?, ?, ?, ? )'''\n",
    "\n",
    "    cursor.executemany(insert_statement, reviews_list)"
   ]
  },
  {
   "cell_type": "code",
   "execution_count": 28,
   "metadata": {},
   "outputs": [],
   "source": [
    "# Iterating trough list of business_ids\n",
    "# getting data respond as dict with 3 reviews for each buisness\n",
    "# parsing those 3 reviews into list of tuples \n",
    "# collecting tuples in 1 list - all_reviews\n",
    "\n",
    "all_reviews = []\n",
    "for business_id in business_ids:\n",
    "    review_respond = yelp_review_call(url_params, api_key, business_id)\n",
    "    all_reviews.extend(parse_review(review_respond, business_id))"
   ]
  },
  {
   "cell_type": "code",
   "execution_count": 29,
   "metadata": {},
   "outputs": [],
   "source": [
    "# Insering data - list of tuples into DB Table 'reviews'\n",
    "db_insert_reviews(cursor, all_reviews)"
   ]
  },
  {
   "cell_type": "markdown",
   "metadata": {},
   "source": [
    "# Which are the 5 most reviewed businesses?"
   ]
  },
  {
   "cell_type": "code",
   "execution_count": 30,
   "metadata": {},
   "outputs": [
    {
     "data": {
      "text/plain": [
       "[('Martha’s Country Bakery', 2280),\n",
       " ('Sweet Chick', 2125),\n",
       " ('Buttermilk Channel', 1947),\n",
       " ('Five Leaves', 1648),\n",
       " ('Champs Diner', 1631)]"
      ]
     },
     "execution_count": 30,
     "metadata": {},
     "output_type": "execute_result"
    }
   ],
   "source": [
    "cursor.execute(\"\"\" SELECT \n",
    "                    b.name\n",
    "                    ,b.review_count\n",
    "                    FROM business AS b\n",
    "                    ORDER BY review_count DESC\n",
    "                    LIMIT 5\n",
    "                \"\"\").fetchall()"
   ]
  },
  {
   "cell_type": "code",
   "execution_count": 35,
   "metadata": {},
   "outputs": [
    {
     "data": {
      "text/plain": [
       "[('Martha’s Country Bakery', 2039),\n",
       " ('Sweet Chick', 2026),\n",
       " ('Buttermilk Channel', 1891),\n",
       " ('JoJu', 1703),\n",
       " ('Five Leaves', 1616)]"
      ]
     },
     "execution_count": 35,
     "metadata": {},
     "output_type": "execute_result"
    }
   ],
   "source": [
    "cursor.execute(\"\"\" SELECT \n",
    "                    b.name\n",
    "                    ,b.review_count\n",
    "                    FROM business AS b\n",
    "                    ORDER BY review_count DESC\n",
    "                    LIMIT 5\n",
    "                \"\"\").fetchall()"
   ]
  },
  {
   "cell_type": "markdown",
   "metadata": {},
   "source": [
    "# What is the highest rating recieved in your data set and how many businesses have that rating?\n"
   ]
  },
  {
   "cell_type": "code",
   "execution_count": 36,
   "metadata": {},
   "outputs": [
    {
     "data": {
      "text/plain": [
       "[(5, 34)]"
      ]
     },
     "execution_count": 36,
     "metadata": {},
     "output_type": "execute_result"
    }
   ],
   "source": [
    "cursor.execute(\"\"\" SELECT \n",
    "                    rating\n",
    "                    ,COUNT(rating)\n",
    "                    FROM business\n",
    "                    WHERE rating = (SELECT MAX(rating) FROM business)\n",
    "                \"\"\").fetchall()"
   ]
  },
  {
   "cell_type": "markdown",
   "metadata": {},
   "source": [
    "# What percentage of businesses have a rating greater than or 4.5?\n"
   ]
  },
  {
   "cell_type": "code",
   "execution_count": 37,
   "metadata": {},
   "outputs": [
    {
     "data": {
      "text/plain": [
       "[(35,)]"
      ]
     },
     "execution_count": 37,
     "metadata": {},
     "output_type": "execute_result"
    }
   ],
   "source": [
    "\n",
    "cursor.execute(\"\"\" SELECT \n",
    "                    COUNT(*)*100/(SELECT COUNT(*) FROM business)\n",
    "                    FROM business\n",
    "                    WHERE rating >= 4.5\n",
    "                \"\"\").fetchall()"
   ]
  },
  {
   "cell_type": "markdown",
   "metadata": {},
   "source": [
    "# What percentage of businesses have a rating less than 3?\n"
   ]
  },
  {
   "cell_type": "code",
   "execution_count": 38,
   "metadata": {},
   "outputs": [
    {
     "data": {
      "text/plain": [
       "0.8733624454148471"
      ]
     },
     "execution_count": 38,
     "metadata": {},
     "output_type": "execute_result"
    }
   ],
   "source": [
    "n = cursor.execute(\"\"\" SELECT \n",
    "                    COUNT(*)\n",
    "                    FROM business\n",
    "                    WHERE rating < 3\n",
    "                \"\"\").fetchall()[0][0]\n",
    "d = cursor.execute(\"\"\" SELECT \n",
    "                    COUNT(*)\n",
    "                    FROM business\n",
    "                    --WHERE rating < 3\n",
    "                \"\"\").fetchall()[0][0]\n",
    "\n",
    "(n/d)*100"
   ]
  },
  {
   "cell_type": "markdown",
   "metadata": {},
   "source": [
    "# What is the average rating of businesses that have a price label of one dollar sign? Two dollar signs? Three dollar signs? "
   ]
  },
  {
   "cell_type": "code",
   "execution_count": 39,
   "metadata": {},
   "outputs": [
    {
     "data": {
      "text/plain": [
       "[('$', 4.085043988269795),\n",
       " ('$$', 4.063235294117647),\n",
       " ('$$$', 3.9166666666666665)]"
      ]
     },
     "execution_count": 39,
     "metadata": {},
     "output_type": "execute_result"
    }
   ],
   "source": [
    "cursor.execute(\"\"\" SELECT \n",
    "                    price\n",
    "                    ,AVG(rating)\n",
    "                    FROM business\n",
    "                    --WHERE price = '$' OR price = '$$' OR price = '$$$' \n",
    "                    GROUP BY price\n",
    "                \"\"\").fetchall()"
   ]
  },
  {
   "cell_type": "markdown",
   "metadata": {},
   "source": [
    "# Return the text of the reviews for the most reviewed business.\n"
   ]
  },
  {
   "cell_type": "code",
   "execution_count": 40,
   "metadata": {},
   "outputs": [
    {
     "data": {
      "text/plain": [
       "[(\"A must have treat! Just go in and pick anything, you won't be disappointed. The workers are super nice and up beat. I left with sweets and a smile! \\n\\nTheir...\",),\n",
       " (\"Have a sweet tooth?  No problem, just pay Martha's Country Bakery a visit and you won't regret it!  There are so many selections of cakes, pies, cookies,...\",),\n",
       " (\"I love the Martha's in Bayside by my house as well as this location. I've dined in with friends and ordered takeout too many times to count. The pastries...\",)]"
      ]
     },
     "execution_count": 40,
     "metadata": {},
     "output_type": "execute_result"
    }
   ],
   "source": [
    "\n",
    "cursor.execute(\"\"\"  SELECT\n",
    "                    text\n",
    "                    FROM reviews \n",
    "                    WHERE business_id IN \n",
    "     \n",
    "                    (SELECT\n",
    "                    b.business_id\n",
    "                    FROM business AS b\n",
    "                    WHERE review_count IN (SELECT MAX(b.review_count) FROM business AS b) )\n",
    "                \"\"\").fetchall()"
   ]
  },
  {
   "cell_type": "markdown",
   "metadata": {},
   "source": [
    "# Return the name of the business with the most recent review\n"
   ]
  },
  {
   "cell_type": "code",
   "execution_count": 41,
   "metadata": {},
   "outputs": [
    {
     "data": {
      "text/plain": [
       "[('Crepe Factory', '2021-01-07 15:38:16')]"
      ]
     },
     "execution_count": 41,
     "metadata": {},
     "output_type": "execute_result"
    }
   ],
   "source": [
    "# Use subq as consume less resourses\n",
    "cursor.execute(\"\"\" SELECT\n",
    "                    b.name\n",
    "                    ,r.date_created\n",
    "                    \n",
    "                    FROM business b INNER JOIN reviews r\n",
    "                    ON b.business_id = r.business_id\n",
    "                    ORDER BY date_created DESC\n",
    "                    LIMIT 1\n",
    "                \"\"\").fetchall()"
   ]
  },
  {
   "cell_type": "markdown",
   "metadata": {},
   "source": [
    "# Find the highest rated business and return text of the most recent review. If multiple business have the same rating, select the business with the most reviews."
   ]
  },
  {
   "cell_type": "code",
   "execution_count": 42,
   "metadata": {},
   "outputs": [
    {
     "data": {
      "text/plain": [
       "[('The Alcove',\n",
       "  '2020-10-06 17:23:24',\n",
       "  5,\n",
       "  'Never bad, always amazing-- even in the midst of covid, and notoriously long wait times. \\n\\nThe food and flights always makes it all better.',\n",
       "  897)]"
      ]
     },
     "execution_count": 42,
     "metadata": {},
     "output_type": "execute_result"
    }
   ],
   "source": [
    "\n",
    "cursor.execute(\"\"\" SELECT\n",
    "                    b.name\n",
    "                    ,r.date_created\n",
    "                    ,b.rating\n",
    "                    ,r.text\n",
    "                    ,review_count\n",
    "                    FROM business b INNER JOIN reviews r\n",
    "                    ON b.business_id = r.business_id\n",
    "                    --GROUP BY b.business_id\n",
    "                    ORDER BY  b.rating DESC, b.review_count DESC, date_created DESC\n",
    "                    LIMIT 1\n",
    "                \"\"\").fetchall()"
   ]
  },
  {
   "cell_type": "markdown",
   "metadata": {},
   "source": [
    "# Find the lowest rated business and return text of the most recent review. If multiple business have the same rating, select the business with the least reviews."
   ]
  },
  {
   "cell_type": "code",
   "execution_count": 43,
   "metadata": {},
   "outputs": [
    {
     "data": {
      "text/plain": [
       "[('Starbucks',\n",
       "  '2020-06-12 14:26:31',\n",
       "  2.5,\n",
       "  \"This isn't the worst location I've ever been to but it surely is not the best. The employees were fairly nice, but the quality of the drinks are not up to...\",\n",
       "  47)]"
      ]
     },
     "execution_count": 43,
     "metadata": {},
     "output_type": "execute_result"
    }
   ],
   "source": [
    "\n",
    "cursor.execute(\"\"\" SELECT\n",
    "                    b.name\n",
    "                    ,r.date_created\n",
    "                    ,b.rating\n",
    "                    ,r.text\n",
    "                    ,review_count\n",
    "                    FROM business b INNER JOIN reviews r\n",
    "                    ON b.business_id = r.business_id\n",
    "                    GROUP BY b.business_id\n",
    "                    ORDER BY  b.rating ASC, b.review_count DESC, date_created ASC\n",
    "                    LIMIT 1\n",
    "                \"\"\").fetchall()"
   ]
  },
  {
   "cell_type": "markdown",
   "metadata": {},
   "source": [
    "# Pulling in relevant data into your python environment and analysis it using descriptive statistics"
   ]
  },
  {
   "cell_type": "code",
   "execution_count": 6,
   "metadata": {},
   "outputs": [
    {
     "ename": "OperationalError",
     "evalue": "no such table: business",
     "output_type": "error",
     "traceback": [
      "\u001b[1;31m---------------------------------------------------------------------------\u001b[0m",
      "\u001b[1;31mOperationalError\u001b[0m                          Traceback (most recent call last)",
      "\u001b[1;32m<ipython-input-6-ab6480f5b15d>\u001b[0m in \u001b[0;36m<module>\u001b[1;34m\u001b[0m\n\u001b[1;32m----> 1\u001b[1;33m \u001b[0mdfb\u001b[0m \u001b[1;33m=\u001b[0m \u001b[0mpd\u001b[0m\u001b[1;33m.\u001b[0m\u001b[0mDataFrame\u001b[0m\u001b[1;33m(\u001b[0m\u001b[0mcursor\u001b[0m\u001b[1;33m.\u001b[0m\u001b[0mexecute\u001b[0m\u001b[1;33m(\u001b[0m\u001b[1;34m\"SELECT * FROM business\"\u001b[0m\u001b[1;33m)\u001b[0m\u001b[1;33m.\u001b[0m\u001b[0mfetchall\u001b[0m\u001b[1;33m(\u001b[0m\u001b[1;33m)\u001b[0m\u001b[1;33m)\u001b[0m\u001b[1;33m\u001b[0m\u001b[1;33m\u001b[0m\u001b[0m\n\u001b[0m\u001b[0;32m      2\u001b[0m \u001b[0mdfb\u001b[0m\u001b[1;33m.\u001b[0m\u001b[0mcolumns\u001b[0m \u001b[1;33m=\u001b[0m \u001b[1;33m[\u001b[0m\u001b[0mx\u001b[0m\u001b[1;33m[\u001b[0m\u001b[1;36m0\u001b[0m\u001b[1;33m]\u001b[0m \u001b[1;32mfor\u001b[0m \u001b[0mx\u001b[0m \u001b[1;32min\u001b[0m \u001b[0mcursor\u001b[0m\u001b[1;33m.\u001b[0m\u001b[0mdescription\u001b[0m\u001b[1;33m]\u001b[0m\u001b[1;33m\u001b[0m\u001b[1;33m\u001b[0m\u001b[0m\n\u001b[0;32m      3\u001b[0m \u001b[0mdfb\u001b[0m\u001b[1;33m.\u001b[0m\u001b[0mhead\u001b[0m\u001b[1;33m(\u001b[0m\u001b[1;33m)\u001b[0m\u001b[1;33m\u001b[0m\u001b[1;33m\u001b[0m\u001b[0m\n",
      "\u001b[1;31mOperationalError\u001b[0m: no such table: business"
     ]
    }
   ],
   "source": [
    "dfb = pd.DataFrame(cursor.execute(\"SELECT * FROM business\").fetchall())\n",
    "dfb.columns = [x[0] for x in cursor.description]\n",
    "dfb.head()"
   ]
  },
  {
   "cell_type": "markdown",
   "metadata": {},
   "source": [
    "# Creating Map shoving density of Buisnesses in Queens and Brooklyn"
   ]
  },
  {
   "cell_type": "code",
   "execution_count": 3,
   "metadata": {},
   "outputs": [
    {
     "ename": "NameError",
     "evalue": "name 'dfb' is not defined",
     "output_type": "error",
     "traceback": [
      "\u001b[1;31m---------------------------------------------------------------------------\u001b[0m",
      "\u001b[1;31mNameError\u001b[0m                                 Traceback (most recent call last)",
      "\u001b[1;32m<ipython-input-3-1afe8bf51017>\u001b[0m in \u001b[0;36m<module>\u001b[1;34m\u001b[0m\n\u001b[0;32m      9\u001b[0m     \u001b[1;32mreturn\u001b[0m \u001b[0mrow\u001b[0m\u001b[1;33m\u001b[0m\u001b[1;33m\u001b[0m\u001b[0m\n\u001b[0;32m     10\u001b[0m \u001b[1;33m\u001b[0m\u001b[0m\n\u001b[1;32m---> 11\u001b[1;33m \u001b[0mdfb\u001b[0m \u001b[1;33m=\u001b[0m \u001b[0mdfb\u001b[0m\u001b[1;33m.\u001b[0m\u001b[0mapply\u001b[0m\u001b[1;33m(\u001b[0m\u001b[0mfiltering_city\u001b[0m\u001b[1;33m,\u001b[0m\u001b[0maxis\u001b[0m\u001b[1;33m=\u001b[0m\u001b[1;36m1\u001b[0m\u001b[1;33m)\u001b[0m\u001b[1;33m\u001b[0m\u001b[1;33m\u001b[0m\u001b[0m\n\u001b[0m",
      "\u001b[1;31mNameError\u001b[0m: name 'dfb' is not defined"
     ]
    }
   ],
   "source": [
    "# Changing 'city' column in DF business according to zip_codes\n",
    "\n",
    "def filtering_city(row):\n",
    "    \n",
    "    if row['zip_code'] in zip_bklyn:\n",
    "        row['city'] = 'Brooklyn'\n",
    "    elif row['zip_code'] in zip_queens:\n",
    "        row['city'] = 'Queens'\n",
    "    return row\n",
    "\n",
    "dfb = dfb.apply(filtering_city,axis=1)"
   ]
  },
  {
   "cell_type": "code",
   "execution_count": 2,
   "metadata": {},
   "outputs": [
    {
     "ename": "NameError",
     "evalue": "name 'dfb' is not defined",
     "output_type": "error",
     "traceback": [
      "\u001b[1;31m---------------------------------------------------------------------------\u001b[0m",
      "\u001b[1;31mNameError\u001b[0m                                 Traceback (most recent call last)",
      "\u001b[1;32m<ipython-input-2-ce04e7b46d68>\u001b[0m in \u001b[0;36m<module>\u001b[1;34m\u001b[0m\n\u001b[0;32m      2\u001b[0m \u001b[1;33m\u001b[0m\u001b[0m\n\u001b[0;32m      3\u001b[0m \u001b[0mbq_coordinates\u001b[0m \u001b[1;33m=\u001b[0m\u001b[1;33m[\u001b[0m\u001b[1;33m(\u001b[0m\u001b[1;36m40.6501\u001b[0m\u001b[1;33m+\u001b[0m\u001b[1;36m40.68149\u001b[0m\u001b[1;33m)\u001b[0m\u001b[1;33m/\u001b[0m\u001b[1;36m2\u001b[0m\u001b[1;33m,\u001b[0m\u001b[1;33m(\u001b[0m\u001b[1;33m-\u001b[0m\u001b[1;36m73.94958\u001b[0m\u001b[1;33m-\u001b[0m\u001b[1;36m73.83652\u001b[0m\u001b[1;33m)\u001b[0m\u001b[1;33m/\u001b[0m\u001b[1;36m2\u001b[0m\u001b[1;33m]\u001b[0m\u001b[1;33m\u001b[0m\u001b[1;33m\u001b[0m\u001b[0m\n\u001b[1;32m----> 4\u001b[1;33m \u001b[0mbusiness_data\u001b[0m \u001b[1;33m=\u001b[0m \u001b[0mdfb\u001b[0m\u001b[1;33m[\u001b[0m\u001b[1;33m[\u001b[0m\u001b[1;34m'coordinate_latitude'\u001b[0m\u001b[1;33m,\u001b[0m\u001b[1;34m'coordinate_longtitude'\u001b[0m\u001b[1;33m,\u001b[0m\u001b[1;34m'name'\u001b[0m\u001b[1;33m,\u001b[0m\u001b[1;34m'address'\u001b[0m\u001b[1;33m]\u001b[0m\u001b[1;33m]\u001b[0m\u001b[1;33m.\u001b[0m\u001b[0mvalues\u001b[0m\u001b[1;33m\u001b[0m\u001b[1;33m\u001b[0m\u001b[0m\n\u001b[0m\u001b[0;32m      5\u001b[0m \u001b[1;33m\u001b[0m\u001b[0m\n\u001b[0;32m      6\u001b[0m \u001b[1;32mdef\u001b[0m \u001b[0mmap_from\u001b[0m\u001b[1;33m(\u001b[0m\u001b[0mlocation\u001b[0m\u001b[1;33m,\u001b[0m \u001b[0mzoom_amount\u001b[0m\u001b[1;33m)\u001b[0m\u001b[1;33m:\u001b[0m\u001b[1;33m\u001b[0m\u001b[1;33m\u001b[0m\u001b[0m\n",
      "\u001b[1;31mNameError\u001b[0m: name 'dfb' is not defined"
     ]
    }
   ],
   "source": [
    "# Creating map of Brooklyn-Queens where each poin represents buisness location\n",
    "\n",
    "bq_coordinates =[(40.6501+40.68149)/2,(-73.94958-73.83652)/2]\n",
    "business_data = dfb[['coordinate_latitude','coordinate_longtitude','name','address']].values\n",
    "\n",
    "def map_from(location, zoom_amount):\n",
    "    map_ =folium.Map(location=location, zoom_start=zoom_amount)\n",
    "    return map_\n",
    "\n",
    "def add_business_mark(bus_markers_list, map_obj):\n",
    "    for marker in bus_markers_list:\n",
    "        marker.add_to(map_obj)\n",
    "    return map_obj\n",
    "\n",
    "bq_map = map_from(bq_coordinates, 11)\n",
    "bus_markers_list = [ folium.Circle([lat,long], radius=10, tooltip=name, popup='<i>{}</i>'.format(add)) for lat,long,name,add in business_data ]\n",
    "\n",
    "add_business_mark(bus_markers_list, bq_map)"
   ]
  },
  {
   "cell_type": "markdown",
   "metadata": {},
   "source": [
    "# Building Graf to Explore Number Of Businesess in Bklyn and Queens"
   ]
  },
  {
   "cell_type": "code",
   "execution_count": 122,
   "metadata": {},
   "outputs": [
    {
     "data": {
      "image/png": "[encoded data removed]",
      "text/plain": [
       "<Figure size 1440x720 with 1 Axes>"
      ]
     },
     "metadata": {
      "needs_background": "light"
     },
     "output_type": "display_data"
    }
   ],
   "source": [
    "bus_count = dfb.groupby('city')['business_id'].count()\n",
    "\n",
    "fig, ax = plt.subplots(figsize=(20,10))\n",
    "\n",
    "ax.bar(bus_count.index, bus_count.values, color='turquoise', edgecolor= 'black', align='center')\n",
    "ax.set_title('Number Coffee Shops in Brooklyn and Queens', size=18)\n",
    "ax.set_ylabel('Number of Coffee Shops', size=15)\n",
    "ax.set_xlabel('Location', size= 15)\n",
    "plt.show()"
   ]
  },
  {
   "cell_type": "markdown",
   "metadata": {},
   "source": [
    "# Scraping Data From web about zip and population in Bklyn and Queens. "
   ]
  },
  {
   "cell_type": "code",
   "execution_count": 123,
   "metadata": {},
   "outputs": [],
   "source": [
    "# creating a list of url records containing information about zip_codes and population in NYC\n",
    "\n",
    "urls =['http://zipatlas.com/us/ny/zip-code-comparison/population-density.html'] \\\n",
    "    + [ 'http://zipatlas.com/us/ny/zip-code-comparison/population-density.{}.html'.format(i) for i in range(2,17)]"
   ]
  },
  {
   "cell_type": "code",
   "execution_count": 124,
   "metadata": {},
   "outputs": [],
   "source": [
    "all_dfs = []\n",
    "\n",
    "def format_table(df):\n",
    "    \"\"\"\n",
    "    Formating each df returned\n",
    "    From pd.readhtm()\n",
    "    returns df\n",
    "    \"\"\"\n",
    "    df.columns = df.iloc[0]\n",
    "    return df.iloc[2:]\n",
    "\n",
    "# looping trough list of urls and adding df from each url to all_dfs\n",
    "\n",
    "for url in urls:\n",
    "    all_dfs.append(\n",
    "        format_table(\n",
    "            pd.read_html(url)[10]\n",
    "        )\n",
    "    )"
   ]
  },
  {
   "cell_type": "code",
   "execution_count": 125,
   "metadata": {},
   "outputs": [],
   "source": [
    "# Shaping Data Frames. Filtering !!!\n",
    "\n",
    "zip_population = pd.concat(all_dfs)\n",
    "zip_population['Zip Code'] = pd.to_numeric(zip_population['Zip Code'])\n",
    "zip_population['Population'] = pd.to_numeric(zip_population['Population'])\n",
    "zip_population = zip_population.drop(columns=['#', 'People / Sq. Mile','National Rank'])\n",
    "\n",
    "# Filtering to get only Queens Population_ZIP info\n",
    "zip_population_queens = zip_population[zip_population['Zip Code'].isin(zip_queens)]\n",
    "zip_population_queens.reset_index(drop=True, inplace= True)"
   ]
  },
  {
   "cell_type": "markdown",
   "metadata": {},
   "source": [
    "# Building Graph to Show zip codes with Amount of people per Coffee Shops "
   ]
  },
  {
   "cell_type": "code",
   "execution_count": 126,
   "metadata": {},
   "outputs": [],
   "source": [
    "queens_zip_bus_count = dfb[dfb['zip_code'].isin(zip_queens)].groupby('zip_code')['zip_code'].count()\n",
    "bus_count_zip_queens = dfb[dfb['city'] == 'Queens'].groupby('zip_code')['zip_code'].count()\n",
    "zip_pop_count_queens = zip_population_queens.rename(columns={'Zip Code':'zip_code'}).set_index('zip_code').join(bus_count_zip_queens).rename(columns={'zip_code':'Business_count'}).dropna()\n",
    "\n",
    "zip_pop_count_queens['customers_per_business'] = zip_pop_count_queens['Population']/zip_pop_count_queens['Business_count']\n",
    "zip_pop_count_queens['customers_per_business'] = zip_pop_count_queens['customers_per_business'].map(lambda x : int(x))\n",
    "zip_pop_count_queens = zip_pop_count_queens.sort_values(by ='customers_per_business')\n",
    "zip_pop_count_queens['customers_per_business'] = zip_pop_count_queens['customers_per_business'].map(lambda x : int(x))\n",
    "zip_pop_count_queens.reset_index(inplace=True)\n",
    "rating_mean = dfb.groupby('zip_code')['rating'].mean().round(2)\n",
    "zip_pop_count_queens = zip_pop_count_queens.join(rating_mean, how='left', on = 'zip_code')\n",
    "zip_pop_count_queens['zip_code'] = zip_pop_count_queens['zip_code'].map(lambda x: str(x))\n"
   ]
  },
  {
   "cell_type": "code",
   "execution_count": 127,
   "metadata": {},
   "outputs": [
    {
     "data": {
      "image/png": "[encoded data removed]",
      "text/plain": [
       "<Figure size 1440x720 with 1 Axes>"
      ]
     },
     "metadata": {
      "needs_background": "light"
     },
     "output_type": "display_data"
    }
   ],
   "source": [
    "fig, ax = plt.subplots(figsize=(20,10))\n",
    "\n",
    "bars = ax.bar(zip_pop_count_queens['zip_code'] , zip_pop_count_queens['customers_per_business'], color='pink', edgecolor= 'black', align='center')\n",
    "ax.set_title('Population Per Coffee Shop by Zip Code in Queens', size=18)\n",
    "ax.set_ylabel('Population', size=15)\n",
    "ax.set_xlabel('Zip Code', size= 15)\n",
    "ax.set_xticklabels(set(zip_pop_count_queens['zip_code']), rotation =45)\n",
    "\n",
    "plt.show()"
   ]
  },
  {
   "cell_type": "markdown",
   "metadata": {},
   "source": [
    "# Defining coffee shops in Queens with Highest Score By using following acquisition :"
   ]
  },
  {
   "cell_type": "markdown",
   "metadata": {},
   "source": [
    "# $ Score_{best zip}=population*w_{population} + rating*w_{rating} $\n",
    "\n",
    "# $ w_{population}$:   relevance of population per coffeeshop\n",
    "\n",
    "# $ w_{rating}$:   relevance of average rating of zip code"
   ]
  },
  {
   "cell_type": "code",
   "execution_count": 138,
   "metadata": {},
   "outputs": [
    {
     "data": {
      "text/html": [
       "<div>\n",
       "<style scoped>\n",
       "    .dataframe tbody tr th:only-of-type {\n",
       "        vertical-align: middle;\n",
       "    }\n",
       "\n",
       "    .dataframe tbody tr th {\n",
       "        vertical-align: top;\n",
       "    }\n",
       "\n",
       "    .dataframe thead th {\n",
       "        text-align: right;\n",
       "    }\n",
       "</style>\n",
       "<table border=\"1\" class=\"dataframe\">\n",
       "  <thead>\n",
       "    <tr style=\"text-align: right;\">\n",
       "      <th></th>\n",
       "      <th>zip_code</th>\n",
       "      <th>Location</th>\n",
       "      <th>City</th>\n",
       "      <th>Population</th>\n",
       "      <th>Business_count</th>\n",
       "      <th>customers_per_business</th>\n",
       "      <th>avg_rwiev_rating</th>\n",
       "      <th>score</th>\n",
       "    </tr>\n",
       "  </thead>\n",
       "  <tbody>\n",
       "    <tr>\n",
       "      <th>0</th>\n",
       "      <td>11101</td>\n",
       "      <td>40.746970, -73.937530</td>\n",
       "      <td>Long Island City, New York</td>\n",
       "      <td>25595</td>\n",
       "      <td>18.0</td>\n",
       "      <td>1421</td>\n",
       "      <td>4.06</td>\n",
       "      <td>None</td>\n",
       "    </tr>\n",
       "    <tr>\n",
       "      <th>1</th>\n",
       "      <td>11103</td>\n",
       "      <td>40.762634, -73.913156</td>\n",
       "      <td>Astoria, New York</td>\n",
       "      <td>44321</td>\n",
       "      <td>18.0</td>\n",
       "      <td>2462</td>\n",
       "      <td>4.14</td>\n",
       "      <td>None</td>\n",
       "    </tr>\n",
       "    <tr>\n",
       "      <th>2</th>\n",
       "      <td>11104</td>\n",
       "      <td>40.744515, -73.920457</td>\n",
       "      <td>Sunnyside, New York</td>\n",
       "      <td>29506</td>\n",
       "      <td>11.0</td>\n",
       "      <td>2682</td>\n",
       "      <td>4.14</td>\n",
       "      <td>None</td>\n",
       "    </tr>\n",
       "    <tr>\n",
       "      <th>3</th>\n",
       "      <td>11106</td>\n",
       "      <td>40.762211, -73.931528</td>\n",
       "      <td>Astoria, New York</td>\n",
       "      <td>43130</td>\n",
       "      <td>16.0</td>\n",
       "      <td>2695</td>\n",
       "      <td>4.19</td>\n",
       "      <td>None</td>\n",
       "    </tr>\n",
       "    <tr>\n",
       "      <th>4</th>\n",
       "      <td>11361</td>\n",
       "      <td>40.764370, -73.771869</td>\n",
       "      <td>Bayside, New York</td>\n",
       "      <td>29206</td>\n",
       "      <td>10.0</td>\n",
       "      <td>2920</td>\n",
       "      <td>4.15</td>\n",
       "      <td>None</td>\n",
       "    </tr>\n",
       "  </tbody>\n",
       "</table>\n",
       "</div>"
      ],
      "text/plain": [
       "  zip_code               Location                        City  Population  \\\n",
       "0    11101  40.746970, -73.937530  Long Island City, New York       25595   \n",
       "1    11103  40.762634, -73.913156           Astoria, New York       44321   \n",
       "2    11104  40.744515, -73.920457         Sunnyside, New York       29506   \n",
       "3    11106  40.762211, -73.931528           Astoria, New York       43130   \n",
       "4    11361  40.764370, -73.771869           Bayside, New York       29206   \n",
       "\n",
       "   Business_count  customers_per_business  avg_rwiev_rating score  \n",
       "0            18.0                    1421              4.06  None  \n",
       "1            18.0                    2462              4.14  None  \n",
       "2            11.0                    2682              4.14  None  \n",
       "3            16.0                    2695              4.19  None  \n",
       "4            10.0                    2920              4.15  None  "
      ]
     },
     "execution_count": 138,
     "metadata": {},
     "output_type": "execute_result"
    }
   ],
   "source": [
    "# Adding new column to DF\n",
    "\n",
    "zip_pop_count_queens = zip_pop_count_queens.rename(columns={'rating':'avg_rwiev_rating'})\n",
    "zip_pop_count_queens['score'] = None\n",
    "zip_pop_count_queens.head()"
   ]
  },
  {
   "cell_type": "markdown",
   "metadata": {},
   "source": [
    "$ Score_{best zip}=population*w_{population} + rating*w_{rating} $\n",
    "\n",
    "$ w_{population}$:   relevance of population per coffeeshop\n",
    "\n",
    "$ w_{rating}$:   relevance of average rating of zip code"
   ]
  },
  {
   "cell_type": "code",
   "execution_count": 139,
   "metadata": {},
   "outputs": [],
   "source": [
    "pop_coef = 0.8\n",
    "rate_coef = 0.2\n",
    "\n",
    "def calculate_score(row):\n",
    "    row['score'] = row['customers_per_business'] * pop_coef + row ['avg_rwiev_rating'] * rate_coef\n",
    "    row['score'] = round(row['score'])\n",
    "    return row"
   ]
  },
  {
   "cell_type": "code",
   "execution_count": 148,
   "metadata": {},
   "outputs": [
    {
     "data": {
      "text/html": [
       "<div>\n",
       "<style scoped>\n",
       "    .dataframe tbody tr th:only-of-type {\n",
       "        vertical-align: middle;\n",
       "    }\n",
       "\n",
       "    .dataframe tbody tr th {\n",
       "        vertical-align: top;\n",
       "    }\n",
       "\n",
       "    .dataframe thead th {\n",
       "        text-align: right;\n",
       "    }\n",
       "</style>\n",
       "<table border=\"1\" class=\"dataframe\">\n",
       "  <thead>\n",
       "    <tr style=\"text-align: right;\">\n",
       "      <th></th>\n",
       "      <th>zip_code</th>\n",
       "      <th>customers_per_business</th>\n",
       "      <th>avg_rwiev_rating</th>\n",
       "      <th>score</th>\n",
       "    </tr>\n",
       "  </thead>\n",
       "  <tbody>\n",
       "    <tr>\n",
       "      <th>34</th>\n",
       "      <td>11368</td>\n",
       "      <td>98841</td>\n",
       "      <td>3.5</td>\n",
       "      <td>79074</td>\n",
       "    </tr>\n",
       "    <tr>\n",
       "      <th>33</th>\n",
       "      <td>11435</td>\n",
       "      <td>53877</td>\n",
       "      <td>3.5</td>\n",
       "      <td>43102</td>\n",
       "    </tr>\n",
       "    <tr>\n",
       "      <th>32</th>\n",
       "      <td>11370</td>\n",
       "      <td>43142</td>\n",
       "      <td>4.5</td>\n",
       "      <td>34514</td>\n",
       "    </tr>\n",
       "    <tr>\n",
       "      <th>31</th>\n",
       "      <td>11418</td>\n",
       "      <td>36571</td>\n",
       "      <td>4.5</td>\n",
       "      <td>29258</td>\n",
       "    </tr>\n",
       "    <tr>\n",
       "      <th>30</th>\n",
       "      <td>11364</td>\n",
       "      <td>34539</td>\n",
       "      <td>4.5</td>\n",
       "      <td>27632</td>\n",
       "    </tr>\n",
       "  </tbody>\n",
       "</table>\n",
       "</div>"
      ],
      "text/plain": [
       "   zip_code  customers_per_business  avg_rwiev_rating  score\n",
       "34    11368                   98841               3.5  79074\n",
       "33    11435                   53877               3.5  43102\n",
       "32    11370                   43142               4.5  34514\n",
       "31    11418                   36571               4.5  29258\n",
       "30    11364                   34539               4.5  27632"
      ]
     },
     "execution_count": 148,
     "metadata": {},
     "output_type": "execute_result"
    }
   ],
   "source": [
    "scored_bus = zip_pop_count_queens.apply(calculate_score,axis=1).sort_values(['score'],ascending=False)                                    \n",
    "scored_bus[['zip_code','customers_per_business','avg_rwiev_rating','score']][:5]                                   "
   ]
  },
  {
   "cell_type": "code",
   "execution_count": null,
   "metadata": {},
   "outputs": [],
   "source": []
  }
 ],
 "metadata": {
  "kernelspec": {
   "display_name": "Python 3",
   "language": "python",
   "name": "python3"
  },
  "language_info": {
   "codemirror_mode": {
    "name": "ipython",
    "version": 3
   },
   "file_extension": ".py",
   "mimetype": "text/x-python",
   "name": "python",
   "nbconvert_exporter": "python",
   "pygments_lexer": "ipython3",
   "version": "3.8.3"
  }
 },
 "nbformat": 4,
 "nbformat_minor": 4
}
